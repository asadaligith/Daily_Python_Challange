{
  "nbformat": 4,
  "nbformat_minor": 0,
  "metadata": {
    "colab": {
      "provenance": [],
      "authorship_tag": "ABX9TyPVS0ukJgkCCheDfovSF1k1",
      "include_colab_link": true
    },
    "kernelspec": {
      "name": "python3",
      "display_name": "Python 3"
    },
    "language_info": {
      "name": "python"
    }
  },
  "cells": [
    {
      "cell_type": "markdown",
      "metadata": {
        "id": "view-in-github",
        "colab_type": "text"
      },
      "source": [
        "<a href=\"https://colab.research.google.com/github/asadaligith/Daily_Python_Challange/blob/main/Daily_Python_Challenge.ipynb\" target=\"_parent\"><img src=\"https://colab.research.google.com/assets/colab-badge.svg\" alt=\"Open In Colab\"/></a>"
      ]
    },
    {
      "cell_type": "markdown",
      "source": [
        "# **Task 1**"
      ],
      "metadata": {
        "id": "9_k8gGIIDR2k"
      }
    },
    {
      "cell_type": "code",
      "source": [
        "print(\"Hello world! Welcome to Python Programing. Let's start coding!\")"
      ],
      "metadata": {
        "colab": {
          "base_uri": "https://localhost:8080/"
        },
        "id": "IXe_BK35DYb6",
        "outputId": "4eb4f86d-b8be-421c-fddf-3c69d52e5f97"
      },
      "execution_count": null,
      "outputs": [
        {
          "output_type": "stream",
          "name": "stdout",
          "text": [
            "Hello world! Welcome to Python Programing. Let's start coding!\n"
          ]
        }
      ]
    },
    {
      "cell_type": "markdown",
      "source": [
        "# **Challange 2**"
      ],
      "metadata": {
        "id": "mtZ617wb66eP"
      }
    },
    {
      "cell_type": "code",
      "source": [
        "import time\n",
        "\n",
        "agent_name = input(\"Enter Your Name: \")\n",
        "\n",
        "print(\"\\n Processing...\")\n",
        "time.sleep(1.5)\n",
        "\n",
        "print(f\" Name detected: {agent_name}\")\n",
        "time.sleep(1)\n",
        "\n",
        "print(f\" Access Granted! Welcome, Agent {agent_name}. Your mission awaits! \")"
      ],
      "metadata": {
        "colab": {
          "base_uri": "https://localhost:8080/"
        },
        "id": "A6A_OzDx7Cau",
        "outputId": "4f80afaf-f9f1-4d96-dc60-bbfe590f7150"
      },
      "execution_count": null,
      "outputs": [
        {
          "output_type": "stream",
          "name": "stdout",
          "text": [
            "Enter Your Name: Alex\n",
            "\n",
            " Processing...\n",
            " Name detected: Alex\n",
            " Access Granted! Welcome, Agent Alex. Your mission awaits! \n"
          ]
        }
      ]
    },
    {
      "cell_type": "markdown",
      "source": [
        "# **Challange 3**"
      ],
      "metadata": {
        "id": "grjcTgciFL-a"
      }
    },
    {
      "cell_type": "code",
      "source": [
        "import time\n",
        "\n",
        "while True :\n",
        "  operation = input(\"Choose an Operation (+ , - , * , / ) or 'exit' to stop \").strip()\n",
        "  if operation.lower() == \"exit\":\n",
        "    print(\"Exiting Calculater. Good By\")\n",
        "    break\n",
        "\n",
        "  if operation not in (\"+\" , \"-\" , \"*\" , \"/\"):\n",
        "    print(\"Invalid Operation. Please Try Again.\")\n",
        "    continue\n",
        "\n",
        "  try:\n",
        "        num1 = float(input(\"Enter 1st Number: \"))\n",
        "        num2 = float(input(\"Enter 2nd Number: \"))\n",
        "  except ValueError:\n",
        "        print(\"Invalid Input! Please enter numeric values only.\\n\")\n",
        "        continue\n",
        "\n",
        "  if operation == \"+\" :\n",
        "    result = num1 + num2\n",
        "  elif operation == \"-\" :\n",
        "    result = num1 - num2\n",
        "  elif operation == \"*\" :\n",
        "    result = num1 * num2\n",
        "  elif operation == \"/\" :\n",
        "    result = num1 / num2\n",
        "    if num2 == 0 :\n",
        "      print(\"Error: not Divide by Zero\")\n",
        "      continue\n",
        "\n",
        "  print(\"\\ncalculating....\")\n",
        "  time.sleep(1)\n",
        "  print(f\"\\nResult: {num1} {operation} {num2} = {result}\\n\")\n"
      ],
      "metadata": {
        "colab": {
          "base_uri": "https://localhost:8080/"
        },
        "id": "L2EPxmHUFT-V",
        "outputId": "0bcd4c16-664a-474e-c5d2-c6dbace0dd78"
      },
      "execution_count": null,
      "outputs": [
        {
          "output_type": "stream",
          "name": "stdout",
          "text": [
            "Choose an Operation (+ , - , * , / ) or 'exit' to stop +\n",
            "Enter 1st Number: 8\n",
            "Enter 2nd Number: 2\n",
            "\n",
            "calculating....\n",
            "\n",
            "Result: 8.0 + 2.0 = 10.0\n",
            "\n",
            "Choose an Operation (+ , - , * , / ) or 'exit' to stop *\n",
            "Enter 1st Number: 2\n",
            "Enter 2nd Number: 2\n",
            "\n",
            "calculating....\n",
            "\n",
            "Result: 2.0 * 2.0 = 4.0\n",
            "\n",
            "Choose an Operation (+ , - , * , / ) or 'exit' to stop exit\n",
            "Exiting Calculater. Good By\n"
          ]
        }
      ]
    },
    {
      "cell_type": "markdown",
      "source": [
        "# **Challange 4**"
      ],
      "metadata": {
        "id": "XmlVqiHfh5ng"
      }
    },
    {
      "cell_type": "code",
      "source": [
        "while True :\n",
        "  try :\n",
        "    print(\"\\nEnter a Number to check Even or odd or type exit to stop\\n\")\n",
        "\n",
        "    user_input = input(\"Enter a Number: \")\n",
        "\n",
        "    if user_input.lower() == \"exit\" :\n",
        "      print(\"\\nExiting Program\")\n",
        "      break\n",
        "\n",
        "    number = int(user_input)\n",
        "\n",
        "    if number % 2 == 0:\n",
        "      print(f\"{number} is an Even Number\")\n",
        "    else :\n",
        "      print(f\"{number} is an Odd Number\")\n",
        "\n",
        "  except ValueError :\n",
        "    print(\"Invalid Input! Please Input a valid Number\")\n",
        "\n",
        "\n"
      ],
      "metadata": {
        "colab": {
          "base_uri": "https://localhost:8080/"
        },
        "id": "P3Ksj3XSiAEq",
        "outputId": "3abcbf34-792e-4ca5-cf40-fe57b4fd473b"
      },
      "execution_count": null,
      "outputs": [
        {
          "output_type": "stream",
          "name": "stdout",
          "text": [
            "\n",
            "Enter a Number to check Even or odd or type exit to stop\n",
            "\n",
            "Enter a Number: 10\n",
            "10 is an Even Number\n",
            "\n",
            "Enter a Number to check Even or odd or type exit to stop\n",
            "\n",
            "Enter a Number: 5\n",
            "5 is an Odd Number\n",
            "\n",
            "Enter a Number to check Even or odd or type exit to stop\n",
            "\n",
            "Enter a Number: k\n",
            "Invalid Input! Please Input a valid Number\n",
            "\n",
            "Enter a Number to check Even or odd or type exit to stop\n",
            "\n",
            "Enter a Number: 9\n",
            "9 is an Odd Number\n",
            "\n",
            "Enter a Number to check Even or odd or type exit to stop\n",
            "\n",
            "Enter a Number: exit\n",
            "\n",
            "Exiting Program\n"
          ]
        }
      ]
    },
    {
      "cell_type": "markdown",
      "source": [
        "# **Challange 5**"
      ],
      "metadata": {
        "id": "TA9k83lBDehL"
      }
    },
    {
      "cell_type": "code",
      "source": [
        "import random\n",
        "\n",
        "def secret_number():\n",
        "  random_number = random.randint(1,100)\n",
        "  max_attempts = 7\n",
        "  attempts = 0\n",
        "  print(\"Number Guessing Game\")\n",
        "  print(\"I'm thinking of a number between 1 and 100\")\n",
        "  print(\"You have 7 attempts to guess the number\")\n",
        "  print(\"Let's begin!\\n\")\n",
        "\n",
        "  while attempts < max_attempts :\n",
        "    try :\n",
        "      user_guess = int(input(f\"Attempt {attempts+1}/7 - Guess the secret number: \"))\n",
        "      attempts += 1\n",
        "\n",
        "      if user_guess < random_number :\n",
        "        print(\"Too Low! Try Again\")\n",
        "      elif user_guess > random_number :\n",
        "        print(\"Too High! Try Again\")\n",
        "      else :\n",
        "        print(f\"congratulation you guess correct Number in {attempts} attempts\")\n",
        "        break\n",
        "    except ValueError :\n",
        "      print(\"Invalid Input! Please Enter a valid Number\")\n",
        "\n",
        "      if attempts == max_attempts:\n",
        "        print(f\"\\n😞 Your 7 attempts are complete. You lost the game! The secret number was {random_number}.\")\n",
        "        print(\"\\nGame Over! Thank you for playing!\")\n",
        "        break\n",
        "\n",
        "secret_number()"
      ],
      "metadata": {
        "id": "Qc8tm8iODkny",
        "colab": {
          "base_uri": "https://localhost:8080/"
        },
        "outputId": "2f288926-1f1e-4e1d-d4e7-58eccae3924f"
      },
      "execution_count": null,
      "outputs": [
        {
          "output_type": "stream",
          "name": "stdout",
          "text": [
            "Number Guessing Game\n",
            "I'm thinking of a number between 1 and 100\n",
            "You have 7 attempts to guess the number\n",
            "Let's begin!\n",
            "\n",
            "Attempt 1/7 - Guess the secret number: 25\n",
            "Too Low! Try Again\n",
            "Attempt 2/7 - Guess the secret number: 35\n",
            "Too High! Try Again\n",
            "Attempt 3/7 - Guess the secret number: 30\n",
            "Too High! Try Again\n",
            "Attempt 4/7 - Guess the secret number: 28\n",
            "congratulation you guess correct Number in 4 attempts\n"
          ]
        }
      ]
    },
    {
      "cell_type": "markdown",
      "source": [
        "# **Challenge 6**"
      ],
      "metadata": {
        "id": "3Af-jiR4MIZO"
      }
    },
    {
      "cell_type": "code",
      "source": [
        "import random\n",
        "import string\n",
        "\n",
        "# Password Generate Function\n",
        "def generate_password(length, use_upper, use_lower, use_digits, use_special):\n",
        "    upper = string.ascii_uppercase if use_upper else \"\"\n",
        "    lower = string.ascii_lowercase if use_lower else \"\"\n",
        "    digits = string.digits if use_digits else \"\"\n",
        "    symbols = string.punctuation if use_special else \"\"\n",
        "\n",
        "    all_characters = upper + lower + digits + symbols\n",
        "\n",
        "    if not all_characters:\n",
        "        return None\n",
        "\n",
        "    return ''.join(random.choices(all_characters, k=length))\n",
        "\n",
        "# Main Function\n",
        "def main():\n",
        "    print(\"\\n🔐 Welcome To Password Generator 🔐\\n\")\n",
        "\n",
        "    while True:\n",
        "        # Input Password Length\n",
        "        while True:\n",
        "            try:\n",
        "                length = int(input(\"Enter the Password length (minimum 8): \"))\n",
        "                if length < 8:\n",
        "                    print(\"⚠️ Password length must be at least 8 characters!\")\n",
        "                    continue\n",
        "                break\n",
        "            except ValueError:\n",
        "                print(\"❌ Invalid Input! Please enter a valid number.\")\n",
        "\n",
        "        # Input Character Types\n",
        "        while True:\n",
        "            use_upper = input(\"Include Uppercase Letters? (y/n): \").strip().lower() == \"y\"\n",
        "            use_lower = input(\"Include Lowercase Letters? (y/n): \").strip().lower() == \"y\"\n",
        "            use_digits = input(\"Include Digits? (y/n): \").strip().lower() == \"y\"\n",
        "            use_special = input(\"Include Special Characters? (y/n): \").strip().lower() == \"y\"\n",
        "\n",
        "            if use_upper or use_lower or use_digits or use_special:\n",
        "                break\n",
        "            else:\n",
        "                print(\"⚠️ You must select at least one character type!\\n\")\n",
        "\n",
        "\n",
        "        while True:\n",
        "            try:\n",
        "                num_passwords = int(input(\"How many passwords do you want to generate? \"))\n",
        "                if num_passwords < 1:\n",
        "                    print(\"⚠️ Number of passwords must be at least 1!\")\n",
        "                    continue\n",
        "                break\n",
        "            except ValueError:\n",
        "                print(\"❌ Invalid Input! Please enter a valid number.\")\n",
        "\n",
        "        # Generate Passwords\n",
        "        print(\"\\n🔑 Generated Passwords:\")\n",
        "        for i in range(num_passwords):\n",
        "            password = generate_password(length, use_upper, use_lower, use_digits, use_special)\n",
        "            if password:\n",
        "                print(f\"👉 Password {i+1}: {password}\")\n",
        "            else:\n",
        "                print(\"❌ Error: No character types selected. Please try again.\")\n",
        "\n",
        "\n",
        "        another = input(\"\\n🔄 Do you want to generate another password? (y/n): \").strip().lower()\n",
        "        if another != \"y\":\n",
        "            print(\"\\n Thank you for using Password Generator! Stay secure. 🔒\")\n",
        "            break\n",
        "\n",
        "if __name__ == \"__main__\":\n",
        "    main()\n"
      ],
      "metadata": {
        "colab": {
          "base_uri": "https://localhost:8080/"
        },
        "id": "Af8jUF77MQgO",
        "outputId": "b2a01f25-79d9-4217-8a27-af6487aafd1d"
      },
      "execution_count": null,
      "outputs": [
        {
          "output_type": "stream",
          "name": "stdout",
          "text": [
            "\n",
            "🔐 Welcome To Password Generator 🔐\n",
            "\n",
            "Enter the Password length (minimum 8): 8\n",
            "Include Uppercase Letters? (y/n): y\n",
            "Include Lowercase Letters? (y/n): y\n",
            "Include Digits? (y/n): y\n",
            "Include Special Characters? (y/n): y\n",
            "How many passwords do you want to generate? 2\n",
            "\n",
            "🔑 Generated Passwords:\n",
            "👉 Password 1: 7DNpm165\n",
            "👉 Password 2: s:Dqhr*Z\n",
            "\n",
            "🔄 Do you want to generate another password? (y/n): n\n",
            "\n",
            "🎉 Thank you for using Password Generator! Stay secure. 🔒\n"
          ]
        }
      ]
    }
  ]
}