{
  "nbformat": 4,
  "nbformat_minor": 0,
  "metadata": {
    "colab": {
      "provenance": [],
      "authorship_tag": "ABX9TyNQmK8ma9nphYBKkLDL64FE",
      "include_colab_link": true
    },
    "kernelspec": {
      "name": "python3",
      "display_name": "Python 3"
    },
    "language_info": {
      "name": "python"
    }
  },
  "cells": [
    {
      "cell_type": "markdown",
      "metadata": {
        "id": "view-in-github",
        "colab_type": "text"
      },
      "source": [
        "<a href=\"https://colab.research.google.com/github/asadaligith/Daily_Python_Challange/blob/main/Challange_6_to_7.ipynb\" target=\"_parent\"><img src=\"https://colab.research.google.com/assets/colab-badge.svg\" alt=\"Open In Colab\"/></a>"
      ]
    },
    {
      "cell_type": "markdown",
      "source": [
        "# **Challenge 6**"
      ],
      "metadata": {
        "id": "jHVrNnWohK2c"
      }
    },
    {
      "cell_type": "code",
      "source": [
        "import random\n",
        "import string\n",
        "\n",
        "def password_generator(length, uppercase, lowercase, digits, special):\n",
        "\n",
        "  uppercase = string.ascii_uppercase if uppercase else ''\n",
        "  lowercase = string.ascii_lowercase if lowercase else ''\n",
        "  digits = string.digits if digits else ''\n",
        "  special = string.punctuation if special else ''\n",
        "\n",
        "  characters = uppercase + lowercase + digits + special\n",
        "\n",
        "  if not characters:\n",
        "    return \"Selct at least one character type.\"\n",
        "\n",
        "  password = ''.join(random.choice(characters) for _ in range(length))\n",
        "  return password\n",
        "\n",
        "def main():\n",
        "  while True :\n",
        "    try :\n",
        "      print(\"Welcome to Password Generator!\")\n",
        "      length = int(input(\"Enter the length (minimum 8)\"))\n",
        "      if length < 8:\n",
        "        print(\"Password length should be at least 8 characters.\")\n",
        "        continue\n",
        "\n",
        "      num_password = int(input(\"How many passwords do you want to generate: \"))\n",
        "      if num_password < 1:\n",
        "        print(\"Number of passwords should be at least 1.\")\n",
        "        continue\n",
        "\n",
        "    except ValueError:\n",
        "      print(\"Invalid input. Please enter a valid number.\")\n",
        "      continue\n",
        "\n",
        "    print(\"\\nPassword Generated\")\n",
        "    for i in range(num_password):\n",
        "      password = password_generator(length, uppercase=True, lowercase=True, digits=True, special=True)\n",
        "      print(f\"Password {i + 1}: {password}\")\n",
        "\n",
        "    another = input(\"Do you want to generate another password? (yes/no): \")\n",
        "    if another.lower() != \"yes\":\n",
        "      break\n",
        "\n",
        "  print(\"Thank you for using Password Generator!\")\n",
        "\n",
        "if __name__ == \"__main__\":\n",
        "  main()\n"
      ],
      "metadata": {
        "colab": {
          "base_uri": "https://localhost:8080/"
        },
        "id": "XJKKuffXhinN",
        "outputId": "d9abc9e7-7285-4b24-e6a7-e85e7e0324c7"
      },
      "execution_count": null,
      "outputs": [
        {
          "output_type": "stream",
          "name": "stdout",
          "text": [
            "Welcome to Password Generator!\n",
            "Enter the length (minimum 8)8\n",
            "How many passwords do you want to generate: 2\n",
            "\n",
            "Password Generated\n",
            "Password 1: ;_!MNiLg\n",
            "Password 2: 9EZ:zvOK\n",
            "Do you want to generate another password? (yes/no): no\n",
            "Thank you for using Password Generator!\n"
          ]
        }
      ]
    },
    {
      "cell_type": "markdown",
      "source": [
        "# **Challenge 7**"
      ],
      "metadata": {
        "id": "gtSE8jFk8V50"
      }
    },
    {
      "cell_type": "code",
      "source": [],
      "metadata": {
        "id": "ZFU4ri8iAg9R"
      },
      "execution_count": null,
      "outputs": []
    },
    {
      "cell_type": "code",
      "source": [
        "import random\n",
        "import time\n",
        "\n",
        "def main():\n",
        "  Question_Bank = [\n",
        "      {\"question\": \"Who devolped python programming language?\", \"options\":[\"A) Dennis Ritchie\", \"B) James Gosling\", \"C) Guido van Rossum\",\"D) Bjarne Stroustrup\"], \"answer\": \"B\"},\n",
        "      {\"question\": \"Which of the following is used to define a function in Python?\", \"options\":[\"A) func\", \"B) def\", \"C) define\", \"D) function\"], \"answer\":\"B\"},\n",
        "      {\"question\": \"Which of the following is an immutable data type in Python?\", \"options\":[\"A) List\", \"B) Dictionary\", \"C) Set\", \"D) Tuple\"], \"answer\":\"D\"},\n",
        "      {\"question\": \"What is the correct way to open a file named data.txt in read mode?\", \"options\":['A) file = open(\"data.txt\", \"w\")', 'B) file = open(\"data.txt\", \"r\")', 'C) file = open(\"data.txt\", \"a\")', 'D) file = open(\"data.txt\", \"x\")'], \"answer\":\"B\"},\n",
        "      {\"question\": \"Which statement is used to exit a loop in Python?\", \"options\":[\"A) break\", \"B) return\", \"C) exit\", \"D) stop\"], \"answer\":\"A\"},\n",
        "      {\"question\": \"Which method is used to remove the last item from a list?\", \"options\":[\"A) remove\", \"B) delete\", \"C) pop\", \"D) discard\"], \"answer\":\"C\"},\n",
        "      {\"question\": \"What is the default return value of a function that does not have a return statement?\", \"options\":[\"A) 0\", \"B) None\", \"C) false\", \"D) Empty string\"], \"answer\":\"B\"},\n",
        "      {\"question\": \"Which of the following can be used to handle exceptions in Python?\", \"options\":[\"A) try-except\", \"B) if-else\", \"C) switch-case\", \"D) for-while\"], \"answer\":\"A\"},\n",
        "      {\"question\": \"Which keyword is used to create a class in Python?\", \"options\":[\"A) class\", \"B) def\", \"C) struct\", \"D) object\"], \"answer\":\"A\"},\n",
        "      {\"question\": \"Which of the following is used to iterate over a sequence in Python?\", \"options\":[\"A) for loop\", \"B) while loop\", \"C) Both A and C\", \"D) repeat loop\"], \"answer\":\"C\"},\n",
        "\n",
        "      ]\n",
        "\n",
        "\n",
        "  print(\"Welcome to Quiz Game\")\n",
        "  name = input(\"Enter your name: \")\n",
        "\n",
        "  print(f\"Are you ready {name} for answer the question\")\n",
        "  print(\"You have 20 second for answer each question\")\n",
        "\n",
        "  time_limit = 20\n",
        "  score = 0\n",
        "\n",
        "  selected_questions = random.sample(Question_Bank, 5)\n",
        "  random.shuffle(selected_questions)\n",
        "\n",
        "  for question_data in selected_questions:\n",
        "    start_time = time.time()\n",
        "    print(\"\\n\" + question_data[\"question\"])\n",
        "\n",
        "    for option in question_data[\"options\"]:\n",
        "      print(option)\n",
        "\n",
        "    user_answer = input(\"Enter your answer (A/B/C/D): \").strip().upper()\n",
        "\n",
        "    end_time = time.time()\n",
        "    time_taken = end_time - start_time\n",
        "\n",
        "    if time_taken > time_limit:\n",
        "      print(\"\\nTime's up! Moving to the next question.\\n\")\n",
        "      continue\n",
        "\n",
        "\n",
        "    if user_answer == question_data[\"answer\"]:\n",
        "      print(\"\\nCorrect answer!\\n\")\n",
        "      score += 1\n",
        "\n",
        "    else :\n",
        "      print(f\"\\nIncorrect! The Correct answer is {question_data['answer']}.\\n\")\n",
        "\n",
        "    print(f\"\\nYour current score: {score}\")\n",
        "\n",
        "if __name__ == \"__main__\":\n",
        "  main()\n"
      ],
      "metadata": {
        "id": "TLS1H8iR80jY",
        "colab": {
          "base_uri": "https://localhost:8080/"
        },
        "outputId": "643d3c98-5261-4286-94bc-b62a5616623c"
      },
      "execution_count": null,
      "outputs": [
        {
          "output_type": "stream",
          "name": "stdout",
          "text": [
            "Welcome to Quiz Game\n",
            "Enter your name: Asad\n",
            "Are you ready Asad for answer the question\n",
            "You have 20 second for answer each question\n",
            "\n",
            "Which keyword is used to create a class in Python?\n",
            "A) class\n",
            "B) def\n",
            "C) struct\n",
            "D) object\n",
            "Enter your answer (A/B/C/D): a\n",
            "\n",
            "Correct answer!\n",
            "\n",
            "\n",
            "Your current score: 1\n",
            "\n",
            "Who devolped python programming language?\n",
            "A) Dennis Ritchie\n",
            "B) James Gosling\n",
            "C) Guido van Rossum\n",
            "D) Bjarne Stroustrup\n",
            "Enter your answer (A/B/C/D): c\n",
            "\n",
            "Incorrect! The Correct answer is B.\n",
            "\n",
            "\n",
            "Your current score: 1\n",
            "\n",
            "Which statement is used to exit a loop in Python?\n",
            "A) break\n",
            "B) return\n",
            "C) exit\n",
            "D) stop\n",
            "Enter your answer (A/B/C/D): a\n",
            "\n",
            "Correct answer!\n",
            "\n",
            "\n",
            "Your current score: 2\n",
            "\n",
            "Which of the following can be used to handle exceptions in Python?\n",
            "A) try-except\n",
            "B) if-else\n",
            "C) switch-case\n",
            "D) for-while\n",
            "Enter your answer (A/B/C/D): a\n",
            "\n",
            "Correct answer!\n",
            "\n",
            "\n",
            "Your current score: 3\n",
            "\n",
            "Which of the following is used to iterate over a sequence in Python?\n",
            "A) for loop\n",
            "B) while loop\n",
            "C) Both A and C\n",
            "D) repeat loop\n",
            "Enter your answer (A/B/C/D): c\n",
            "\n",
            "Correct answer!\n",
            "\n",
            "\n",
            "Your current score: 4\n"
          ]
        }
      ]
    }
  ]
}